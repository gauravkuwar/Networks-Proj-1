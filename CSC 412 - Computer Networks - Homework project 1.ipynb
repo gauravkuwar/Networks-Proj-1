{
 "cells": [
  {
   "cell_type": "markdown",
   "id": "dafde22c",
   "metadata": {},
   "source": [
    "# Analyzing the Impact of clock-rate drifts at sender/receiver stations on data packet lengths\n",
    "## Name: Gaurav Kuwar\n",
    "### Intro\n",
    "\n",
    "Analyzing the Impact of clock-rate drifts at sender/receiver stations on data packet lengths. Devised an efficient algorithm to compute an optimal maximum packet size (Rm) given the parameters reference clock rate, clock drift rate, and signal sample threshold. Plotted in three graphs is the effect on the maximum packet size by changing each of the different parameters."
   ]
  },
  {
   "cell_type": "markdown",
   "id": "4224adf0",
   "metadata": {},
   "source": [
    "### Libraries Imported"
   ]
  },
  {
   "cell_type": "code",
   "execution_count": 111,
   "id": "b12aeb9b",
   "metadata": {},
   "outputs": [],
   "source": [
    "import numpy as np\n",
    "import pandas as pd\n",
    "import matplotlib.pyplot as plt"
   ]
  },
  {
   "cell_type": "markdown",
   "id": "8fcc9713",
   "metadata": {},
   "source": [
    "### Functions for getting Max Packet Size (Rm)"
   ]
  },
  {
   "cell_type": "code",
   "execution_count": 79,
   "id": "07d086fc",
   "metadata": {},
   "outputs": [],
   "source": [
    "def formula(Rm, C, cdr, sst):\n",
    "    return ((Rm / (C - (cdr * (Rm / (2 * C))))) - (Rm / C)) <= ((1 - sst) / C)"
   ]
  },
  {
   "cell_type": "markdown",
   "id": "33a15eba",
   "metadata": {},
   "source": [
    "The function `formula` defines the condition which is True if the reciever has enough signal energy to reconstruct the the bit for the given parameters.\n",
    "\n",
    "The variable names for the parameters for the entire report are:\n",
    "\n",
    "- `Rm` = maximum packet size in bits\n",
    "- `C` = Reference clock-rate in bits/sec\n",
    "- `cdr` = clock-drift rate in bits/sec^2\n",
    "- `sst` = signal sample threshold\n"
   ]
  },
  {
   "cell_type": "code",
   "execution_count": 80,
   "id": "54d0e221",
   "metadata": {},
   "outputs": [],
   "source": [
    "def getRm(C, cdr, sst):\n",
    "    \"\"\"\n",
    "    Time Complexity: O(log(n)) where n is the ((2 * C * C) / cdr) - 1, upper bound for Rm\n",
    "    Used binary search to get Rm which satisfies the condition that the formula is True for Rm\n",
    "    but False for Rm+1\n",
    "    \"\"\"\n",
    "    l, r = 0, ((2 * C * C) / cdr) - 1\n",
    "    \n",
    "    while l <= r:\n",
    "        m = (l + r) // 2\n",
    "        formula_m = formula(m, C, cdr, sst)\n",
    "        formula_m1 = formula(m+1, C, cdr, sst)\n",
    "        \n",
    "        if formula_m and not formula_m1:\n",
    "            return int(m)\n",
    "        elif not formula_m:\n",
    "            r = m - 1\n",
    "        else:\n",
    "            l = m + 1"
   ]
  },
  {
   "cell_type": "markdown",
   "id": "1f5e526e",
   "metadata": {},
   "source": [
    "I was able to figure out the upper bound for Rm, and we know that the lower bound is 0. By experimenting with the numbers I was able to figure out when Rm becomes a certain value it results in a negative left hand side in the formula or 0. This was because `(C - (cdr * (Rm / (2 * C))))` in the formula becomes <=0 for some value of Rm, which is the upper bound for Rm, since the right hand side (rhs) of the formula should be always 0 <= rhs <= 1. We can solve for `(C - (cdr * (Rm / (2 * C)))) = 0` to get the upper bound for Rm, and subtract by 1 to make sure that value of Rm is not included. We can then use binary search to very fast calculate Rm, by finding the Rm for which the formula results True, but also results False for Rm+1."
   ]
  },
  {
   "cell_type": "markdown",
   "id": "c5aca1e5",
   "metadata": {},
   "source": [
    "### Default Parameters\n",
    "\n",
    "When plotting for each parameter we keep the other parameters these same default values."
   ]
  },
  {
   "cell_type": "code",
   "execution_count": 81,
   "id": "47b8b408",
   "metadata": {},
   "outputs": [],
   "source": [
    "C = 1e6 # 1 mpbs\n",
    "cdr = 200e-6 # bits/sec^2\n",
    "sst = 0.4 "
   ]
  },
  {
   "cell_type": "markdown",
   "id": "6237bf33",
   "metadata": {},
   "source": [
    "### Plot Signal Sample Threshold Vs Max Packet Size"
   ]
  },
  {
   "cell_type": "code",
   "execution_count": 124,
   "id": "6020522c",
   "metadata": {},
   "outputs": [],
   "source": [
    "def plotSst(lower=0, upper=1, interval=0.1):\n",
    "    x, y = 'signal sample threshold', 'max packet size'\n",
    "    data = [] # Of type: [signal sample threshold, max packet size (Rm)]    \n",
    "    for sst in np.arange(lower, upper+interval, interval):\n",
    "        data.append([sst, getRm(C, cdr, sst)])\n",
    "        \n",
    "    # Create the pandas DataFrame (for readable table)\n",
    "    df = pd.DataFrame(data, columns=[x, y])\n",
    "    df.plot.scatter(x=x, y=y)\n",
    "    \n",
    "    title = x+\" vs \"+y\n",
    "    plt.title(title)\n",
    "    plt.savefig(title.replace(\" \", \"_\") + \".png\")\n",
    "    fig = plt.gcf()\n",
    "    fig.set_size_inches(15, 10, forward=True)\n",
    "\n",
    "    plt.show()\n",
    "    return df"
   ]
  },
  {
   "cell_type": "code",
   "execution_count": 125,
   "id": "77ef8578",
   "metadata": {
    "scrolled": false
   },
   "outputs": [
    {
     "data": {
      "image/png": "[encoded data removed]",
      "text/plain": [
       "<Figure size 1080x720 with 1 Axes>"
      ]
     },
     "metadata": {
      "needs_background": "light"
     },
     "output_type": "display_data"
    },
    {
     "data": {
      "text/html": [
       "<div>\n",
       "<style scoped>\n",
       "    .dataframe tbody tr th:only-of-type {\n",
       "        vertical-align: middle;\n",
       "    }\n",
       "\n",
       "    .dataframe tbody tr th {\n",
       "        vertical-align: top;\n",
       "    }\n",
       "\n",
       "    .dataframe thead th {\n",
       "        text-align: right;\n",
       "    }\n",
       "</style>\n",
       "<table border=\"1\" class=\"dataframe\">\n",
       "  <thead>\n",
       "    <tr style=\"text-align: right;\">\n",
       "      <th></th>\n",
       "      <th>signal sample threshold</th>\n",
       "      <th>max packet size</th>\n",
       "    </tr>\n",
       "  </thead>\n",
       "  <tbody>\n",
       "    <tr>\n",
       "      <th>0</th>\n",
       "      <td>0.000</td>\n",
       "      <td>99999999</td>\n",
       "    </tr>\n",
       "    <tr>\n",
       "      <th>1</th>\n",
       "      <td>0.001</td>\n",
       "      <td>99949986</td>\n",
       "    </tr>\n",
       "    <tr>\n",
       "      <th>2</th>\n",
       "      <td>0.002</td>\n",
       "      <td>99899949</td>\n",
       "    </tr>\n",
       "    <tr>\n",
       "      <th>3</th>\n",
       "      <td>0.003</td>\n",
       "      <td>99849886</td>\n",
       "    </tr>\n",
       "    <tr>\n",
       "      <th>4</th>\n",
       "      <td>0.004</td>\n",
       "      <td>99799798</td>\n",
       "    </tr>\n",
       "    <tr>\n",
       "      <th>...</th>\n",
       "      <td>...</td>\n",
       "      <td>...</td>\n",
       "    </tr>\n",
       "    <tr>\n",
       "      <th>996</th>\n",
       "      <td>0.996</td>\n",
       "      <td>6324555</td>\n",
       "    </tr>\n",
       "    <tr>\n",
       "      <th>997</th>\n",
       "      <td>0.997</td>\n",
       "      <td>5477225</td>\n",
       "    </tr>\n",
       "    <tr>\n",
       "      <th>998</th>\n",
       "      <td>0.998</td>\n",
       "      <td>4472135</td>\n",
       "    </tr>\n",
       "    <tr>\n",
       "      <th>999</th>\n",
       "      <td>0.999</td>\n",
       "      <td>3162277</td>\n",
       "    </tr>\n",
       "    <tr>\n",
       "      <th>1000</th>\n",
       "      <td>1.000</td>\n",
       "      <td>0</td>\n",
       "    </tr>\n",
       "  </tbody>\n",
       "</table>\n",
       "<p>1001 rows × 2 columns</p>\n",
       "</div>"
      ],
      "text/plain": [
       "      signal sample threshold  max packet size\n",
       "0                       0.000         99999999\n",
       "1                       0.001         99949986\n",
       "2                       0.002         99899949\n",
       "3                       0.003         99849886\n",
       "4                       0.004         99799798\n",
       "...                       ...              ...\n",
       "996                     0.996          6324555\n",
       "997                     0.997          5477225\n",
       "998                     0.998          4472135\n",
       "999                     0.999          3162277\n",
       "1000                    1.000                0\n",
       "\n",
       "[1001 rows x 2 columns]"
      ]
     },
     "execution_count": 125,
     "metadata": {},
     "output_type": "execute_result"
    }
   ],
   "source": [
    "plotSst(interval=0.001)"
   ]
  },
  {
   "cell_type": "markdown",
   "id": "2b3c4b56",
   "metadata": {},
   "source": [
    "#### Explaination:\n",
    "\n",
    "We plot the scatter graph to see the effect of changing signal sample threshold on Rm. We select all values from the range 0 to 1, with an interval of 0.001 for more data points. From the pattern of the graph we can conclude that it is logarithmic graph, and the as the signal sample threshold increases the max packet size decreases first slowly, and later on much more exponentially."
   ]
  },
  {
   "cell_type": "markdown",
   "id": "afa581b9",
   "metadata": {},
   "source": [
    "### Plot Reference Clock-rate Vs Max Packet Size"
   ]
  },
  {
   "cell_type": "code",
   "execution_count": 131,
   "id": "06f9648e",
   "metadata": {},
   "outputs": [],
   "source": [
    "def plotC(lower=1, upper=1000, interval=1):\n",
    "    x, y = 'reference clock-rate', 'max packet size'\n",
    "    data = [] # Of type: [reference clock-rate, max packet size (Rm)]    \n",
    "    for C in np.arange(lower, upper+interval, interval):\n",
    "        data.append([C, getRm(C, cdr, sst)])\n",
    "        \n",
    "    # Create the pandas DataFrame (for readable table)\n",
    "    df = pd.DataFrame(data, columns=[x, y])\n",
    "    df.plot.scatter(x=x, y=y)\n",
    "    \n",
    "    title = x+\" vs \"+y\n",
    "    plt.title(title)\n",
    "    plt.savefig(title.replace(\" \", \"_\") + \".png\")\n",
    "    fig = plt.gcf()\n",
    "    fig.set_size_inches(15, 10, forward=True)\n",
    "\n",
    "    plt.show()\n",
    "    return df"
   ]
  },
  {
   "cell_type": "code",
   "execution_count": 132,
   "id": "43645211",
   "metadata": {
    "scrolled": false
   },
   "outputs": [
    {
     "data": {
      "image/png": "[encoded data removed]",
      "text/plain": [
       "<Figure size 1080x720 with 1 Axes>"
      ]
     },
     "metadata": {
      "needs_background": "light"
     },
     "output_type": "display_data"
    },
    {
     "data": {
      "text/html": [
       "<div>\n",
       "<style scoped>\n",
       "    .dataframe tbody tr th:only-of-type {\n",
       "        vertical-align: middle;\n",
       "    }\n",
       "\n",
       "    .dataframe tbody tr th {\n",
       "        vertical-align: top;\n",
       "    }\n",
       "\n",
       "    .dataframe thead th {\n",
       "        text-align: right;\n",
       "    }\n",
       "</style>\n",
       "<table border=\"1\" class=\"dataframe\">\n",
       "  <thead>\n",
       "    <tr style=\"text-align: right;\">\n",
       "      <th></th>\n",
       "      <th>reference clock-rate</th>\n",
       "      <th>max packet size</th>\n",
       "    </tr>\n",
       "  </thead>\n",
       "  <tbody>\n",
       "    <tr>\n",
       "      <th>0</th>\n",
       "      <td>1</td>\n",
       "      <td>77</td>\n",
       "    </tr>\n",
       "    <tr>\n",
       "      <th>1</th>\n",
       "      <td>2</td>\n",
       "      <td>154</td>\n",
       "    </tr>\n",
       "    <tr>\n",
       "      <th>2</th>\n",
       "      <td>3</td>\n",
       "      <td>232</td>\n",
       "    </tr>\n",
       "    <tr>\n",
       "      <th>3</th>\n",
       "      <td>4</td>\n",
       "      <td>309</td>\n",
       "    </tr>\n",
       "    <tr>\n",
       "      <th>4</th>\n",
       "      <td>5</td>\n",
       "      <td>386</td>\n",
       "    </tr>\n",
       "    <tr>\n",
       "      <th>...</th>\n",
       "      <td>...</td>\n",
       "      <td>...</td>\n",
       "    </tr>\n",
       "    <tr>\n",
       "      <th>995</th>\n",
       "      <td>996</td>\n",
       "      <td>77149</td>\n",
       "    </tr>\n",
       "    <tr>\n",
       "      <th>996</th>\n",
       "      <td>997</td>\n",
       "      <td>77226</td>\n",
       "    </tr>\n",
       "    <tr>\n",
       "      <th>997</th>\n",
       "      <td>998</td>\n",
       "      <td>77304</td>\n",
       "    </tr>\n",
       "    <tr>\n",
       "      <th>998</th>\n",
       "      <td>999</td>\n",
       "      <td>77381</td>\n",
       "    </tr>\n",
       "    <tr>\n",
       "      <th>999</th>\n",
       "      <td>1000</td>\n",
       "      <td>77459</td>\n",
       "    </tr>\n",
       "  </tbody>\n",
       "</table>\n",
       "<p>1000 rows × 2 columns</p>\n",
       "</div>"
      ],
      "text/plain": [
       "     reference clock-rate  max packet size\n",
       "0                       1               77\n",
       "1                       2              154\n",
       "2                       3              232\n",
       "3                       4              309\n",
       "4                       5              386\n",
       "..                    ...              ...\n",
       "995                   996            77149\n",
       "996                   997            77226\n",
       "997                   998            77304\n",
       "998                   999            77381\n",
       "999                  1000            77459\n",
       "\n",
       "[1000 rows x 2 columns]"
      ]
     },
     "execution_count": 132,
     "metadata": {},
     "output_type": "execute_result"
    }
   ],
   "source": [
    "plotC()"
   ]
  },
  {
   "cell_type": "markdown",
   "id": "75d1714e",
   "metadata": {},
   "source": [
    "#### Explaination:\n",
    "\n",
    "We plot a scatter graph from intervals 1 to 1000, with an interval of 1.\n",
    "\n",
    "We can see that the graph is linear, meaning that the reference clock-rate is directly proportional to the max packet size. This makes sense conceptually because as the more clock-rate means more bits can be transfered per second, hence why the packet size also increases."
   ]
  },
  {
   "cell_type": "markdown",
   "id": "d586737d",
   "metadata": {},
   "source": [
    "### Plot Reference Clock-drift rate Vs Max Packet Size"
   ]
  },
  {
   "cell_type": "code",
   "execution_count": 126,
   "id": "6ef3c2f0",
   "metadata": {},
   "outputs": [],
   "source": [
    "def plotCdr(lower=0.000001, upper=0.0004, interval=0.000001):\n",
    "    x, y = 'clock-drift rate', 'max packet size'\n",
    "    data = [] # Of type: [clock-drift rate, max packet size (Rm)]    \n",
    "    for cdr in np.arange(lower, upper+interval, interval):\n",
    "        data.append([cdr, getRm(C, cdr, sst)])\n",
    "        \n",
    "    # Create the pandas DataFrame (for readable table)\n",
    "    df = pd.DataFrame(data, columns=[x, y])\n",
    "    df.plot.scatter(x=x, y=y)\n",
    "    \n",
    "    title = x+\" vs \"+y\n",
    "    plt.title(title)\n",
    "    plt.savefig(title.replace(\" \", \"_\") + \".png\")\n",
    "    fig = plt.gcf()\n",
    "    fig.set_size_inches(15, 10, forward=True)\n",
    "    \n",
    "    plt.show()\n",
    "    return df"
   ]
  },
  {
   "cell_type": "code",
   "execution_count": 127,
   "id": "06763583",
   "metadata": {},
   "outputs": [
    {
     "data": {
      "image/png": "[encoded data removed]",
      "text/plain": [
       "<Figure size 1080x720 with 1 Axes>"
      ]
     },
     "metadata": {
      "needs_background": "light"
     },
     "output_type": "display_data"
    },
    {
     "data": {
      "text/html": [
       "<div>\n",
       "<style scoped>\n",
       "    .dataframe tbody tr th:only-of-type {\n",
       "        vertical-align: middle;\n",
       "    }\n",
       "\n",
       "    .dataframe tbody tr th {\n",
       "        vertical-align: top;\n",
       "    }\n",
       "\n",
       "    .dataframe thead th {\n",
       "        text-align: right;\n",
       "    }\n",
       "</style>\n",
       "<table border=\"1\" class=\"dataframe\">\n",
       "  <thead>\n",
       "    <tr style=\"text-align: right;\">\n",
       "      <th></th>\n",
       "      <th>clock-drift rate</th>\n",
       "      <th>max packet size</th>\n",
       "    </tr>\n",
       "  </thead>\n",
       "  <tbody>\n",
       "    <tr>\n",
       "      <th>0</th>\n",
       "      <td>0.000001</td>\n",
       "      <td>1095445036</td>\n",
       "    </tr>\n",
       "    <tr>\n",
       "      <th>1</th>\n",
       "      <td>0.000002</td>\n",
       "      <td>774596643</td>\n",
       "    </tr>\n",
       "    <tr>\n",
       "      <th>2</th>\n",
       "      <td>0.000003</td>\n",
       "      <td>632455516</td>\n",
       "    </tr>\n",
       "    <tr>\n",
       "      <th>3</th>\n",
       "      <td>0.000004</td>\n",
       "      <td>547722559</td>\n",
       "    </tr>\n",
       "    <tr>\n",
       "      <th>4</th>\n",
       "      <td>0.000005</td>\n",
       "      <td>489897947</td>\n",
       "    </tr>\n",
       "    <tr>\n",
       "      <th>...</th>\n",
       "      <td>...</td>\n",
       "      <td>...</td>\n",
       "    </tr>\n",
       "    <tr>\n",
       "      <th>396</th>\n",
       "      <td>0.000397</td>\n",
       "      <td>54978814</td>\n",
       "    </tr>\n",
       "    <tr>\n",
       "      <th>397</th>\n",
       "      <td>0.000398</td>\n",
       "      <td>54909702</td>\n",
       "    </tr>\n",
       "    <tr>\n",
       "      <th>398</th>\n",
       "      <td>0.000399</td>\n",
       "      <td>54840849</td>\n",
       "    </tr>\n",
       "    <tr>\n",
       "      <th>399</th>\n",
       "      <td>0.000400</td>\n",
       "      <td>54772255</td>\n",
       "    </tr>\n",
       "    <tr>\n",
       "      <th>400</th>\n",
       "      <td>0.000401</td>\n",
       "      <td>54703918</td>\n",
       "    </tr>\n",
       "  </tbody>\n",
       "</table>\n",
       "<p>401 rows × 2 columns</p>\n",
       "</div>"
      ],
      "text/plain": [
       "     clock-drift rate  max packet size\n",
       "0            0.000001       1095445036\n",
       "1            0.000002        774596643\n",
       "2            0.000003        632455516\n",
       "3            0.000004        547722559\n",
       "4            0.000005        489897947\n",
       "..                ...              ...\n",
       "396          0.000397         54978814\n",
       "397          0.000398         54909702\n",
       "398          0.000399         54840849\n",
       "399          0.000400         54772255\n",
       "400          0.000401         54703918\n",
       "\n",
       "[401 rows x 2 columns]"
      ]
     },
     "execution_count": 127,
     "metadata": {},
     "output_type": "execute_result"
    }
   ],
   "source": [
    "plotCdr()"
   ]
  },
  {
   "cell_type": "markdown",
   "id": "99ae617e",
   "metadata": {},
   "source": [
    "#### Explaination\n",
    "\n",
    "We plot a scatter graph and use a lower bound of 0.000001 same as the interval to avoid starting at 0 (since it would cause division by 0), and an upper bound of 0.0004 with an interval of 000001.\n",
    "\n",
    "Here, we see that as the clock drift rate increases the max packet size decreases exponentially. This makes sense conceptually because if the clock is drifting more rapidly, we would reach our signal sampling threshold faster, and our max packet size would be much less."
   ]
  }
 ],
 "metadata": {
  "kernelspec": {
   "display_name": "Python 3 (ipykernel)",
   "language": "python",
   "name": "python3"
  },
  "language_info": {
   "codemirror_mode": {
    "name": "ipython",
    "version": 3
   },
   "file_extension": ".py",
   "mimetype": "text/x-python",
   "name": "python",
   "nbconvert_exporter": "python",
   "pygments_lexer": "ipython3",
   "version": "3.9.7"
  }
 },
 "nbformat": 4,
 "nbformat_minor": 5
}
